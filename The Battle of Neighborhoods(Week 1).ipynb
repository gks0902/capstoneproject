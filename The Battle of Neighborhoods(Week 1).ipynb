{
 "cells": [
  {
   "cell_type": "markdown",
   "metadata": {
    "collapsed": true
   },
   "source": [
    "# The Battle of Neighborhoods (Week 1)"
   ]
  },
  {
   "cell_type": "raw",
   "metadata": {},
   "source": [
    "Objective/Business Problem: Opening an Asian Fusion Restaurant in Boston"
   ]
  },
  {
   "cell_type": "raw",
   "metadata": {},
   "source": [
    "1. A description of the problem and a discussion of the background"
   ]
  },
  {
   "cell_type": "raw",
   "metadata": {},
   "source": [
    "About Boston"
   ]
  },
  {
   "cell_type": "raw",
   "metadata": {},
   "source": [
    "Boston is one of the oldest cities in the United States.  Due to its long history, Boston attracts many tourists, with Faneuil Hall alone drawing more than 20 million tourists per year.  It is also the world leader in higher education, which attracts many international students to attend Harvard, MIT, Boston College, Boston University, Brandeis University, Tufts University, and many more. Boston is also a global pioneer in entrepreneurship, with nearly 5,000 startups.    "
   ]
  },
  {
   "cell_type": "raw",
   "metadata": {},
   "source": [
    "Opening an Asian Fusion Restaurant in Boston"
   ]
  },
  {
   "cell_type": "raw",
   "metadata": {},
   "source": [
    "I would like to open an Asian Fusion Restaurant in Boston.  After living in Boston for two years as a grad student, Boston is a unique city where I interacted with a lot of intellectuals worldwide.  Mostly individuals from Asia and Europe.  Also learning from the Boston locals as I am from San Francisco Bay Area.  I believe that an Asian Fusion Restaurant will be able to unite Asians, Europeans, Locals, and foreigners. Everyone will have an opportunity to learn about different cultures and have diversity awareness from each other while eating unique Asian Fusion food.  Whether you are a student, employee, and an entrepreneur.  There will be peace and harmony as people can discuss food and learn.  For example,Hoisin Duck Brioche. Does everyone enjoy talking about food?   The challenge is to find the most suitable location whether it is near a tourist area or the T(Boston's public transportation).          "
   ]
  },
  {
   "cell_type": "raw",
   "metadata": {},
   "source": [
    "2. A description of the data and how it will be used to solve the problem.  "
   ]
  },
  {
   "cell_type": "raw",
   "metadata": {},
   "source": [
    "I am planning on using Foursquare data to find the most suitable location for the restaurant.  Ideal location is near the most visited tourist area, hotels, and T(Boston's public transportation).   Foursquare data should be able to locate all the venues listed above using latitudes and longitudes.  The question is should the restaurant be near a hotel, T(Boston's public transportation), or a tourist area like Faneuil Hall.  Also which neighborhoods has the most international students, employee, and locals.  "
   ]
  }
 ],
 "metadata": {
  "kernelspec": {
   "display_name": "Python 3.7",
   "language": "python",
   "name": "python3"
  },
  "language_info": {
   "codemirror_mode": {
    "name": "ipython",
    "version": 3
   },
   "file_extension": ".py",
   "mimetype": "text/x-python",
   "name": "python",
   "nbconvert_exporter": "python",
   "pygments_lexer": "ipython3",
   "version": "3.7.9"
  }
 },
 "nbformat": 4,
 "nbformat_minor": 1
}
